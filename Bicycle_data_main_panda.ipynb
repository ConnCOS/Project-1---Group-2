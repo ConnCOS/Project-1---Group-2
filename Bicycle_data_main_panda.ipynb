{
 "cells": [
  {
   "cell_type": "code",
   "execution_count": null,
   "id": "1aff5b22",
   "metadata": {},
   "outputs": [],
   "source": [
    "# dependences\n",
    "import pandas as pd\n",
    "import matplotlib\n"
   ]
  },
  {
   "cell_type": "code",
   "execution_count": null,
   "id": "8552d5ac",
   "metadata": {},
   "outputs": [],
   "source": [
    "#importing file path\n",
    "file path = \"Bicycle_and_Pedestrian_Counts_in_Colorado (1).csv\""
   ]
  },
  {
   "cell_type": "code",
   "execution_count": null,
   "id": "ce532e2a",
   "metadata": {},
   "outputs": [],
   "source": [
    "#create dataframe\n"
   ]
  },
  {
   "cell_type": "code",
   "execution_count": null,
   "id": "921cd245",
   "metadata": {},
   "outputs": [],
   "source": []
  }
 ],
 "metadata": {
  "kernelspec": {
   "display_name": "Python 3 (ipykernel)",
   "language": "python",
   "name": "python3"
  },
  "language_info": {
   "codemirror_mode": {
    "name": "ipython",
    "version": 3
   },
   "file_extension": ".py",
   "mimetype": "text/x-python",
   "name": "python",
   "nbconvert_exporter": "python",
   "pygments_lexer": "ipython3",
   "version": "3.10.11"
  }
 },
 "nbformat": 4,
 "nbformat_minor": 5
}
